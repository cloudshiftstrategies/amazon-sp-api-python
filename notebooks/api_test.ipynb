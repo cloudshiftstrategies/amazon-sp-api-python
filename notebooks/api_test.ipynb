{
 "cells": [
  {
   "cell_type": "code",
   "execution_count": 1,
   "metadata": {},
   "outputs": [
    {
     "name": "stdout",
     "output_type": "stream",
     "text": [
      "destinations payload=[Destination(name='sp-api-queue', destination_id='2c3fe6ef-837e-4c17-b2ae-b80f0b05397b', resource=DestinationResource(sqs=SqsResource(arn='arn:aws:sqs:us-east-1:460039500570:sp-api-queue'), event_bridge=None))] errors=None\n",
      "pricing payload=[Price(status='Success', seller_sku=None, asin='B0DP7GSWC8', product=Product(identifiers=IdentifierType(marketplace_asin=ASINIdentifier(marketplace_id='ATVPDKIKX0DER', asin='B0DP7GSWC8'), sku_identifier=None), attribute_sets=None, relationships=None, competitive_pricing=None, sales_rankings=None, offers=[OfferType(offer_type=None, buying_price=PriceType(landed_price=MoneyType(currency_code='USD', amount=329.99), listing_price=MoneyType(currency_code='USD', amount=329.99), shipping=MoneyType(currency_code='USD', amount=0.0), points=None), regular_price=MoneyType(currency_code='USD', amount=329.99), business_price=None, quantity_discount_prices=None, fulfillment_channel='MERCHANT', item_condition='New', item_sub_condition='New', seller_sku='250030-0819-07')]))] errors=None\n"
     ]
    }
   ],
   "source": [
    "import os\n",
    "import dotenv\n",
    "\n",
    "dotenv.load_dotenv()\n",
    "\n",
    "from py_sp_api.generated.productPricingV0 import ProductPricingApi, SPAPIClient as PricingClient\n",
    "from py_sp_api.generated.notifications import NotificationsApi, SPAPIClient as NotificationsClient\n",
    "from py_sp_api import SPAPIConfig\n",
    "\n",
    "\n",
    "def test_get_pricing():\n",
    "    # demonstrates a grantful \"refresh_token\" request\n",
    "    spapi_config = SPAPIConfig(\n",
    "        client_id=os.getenv(\"SPAPI_CLIENT_ID\"),\n",
    "        client_secret=os.getenv(\"SPAPI_CLIENT_SECRET\"),\n",
    "        refresh_token=os.getenv(\"SPAPI_TOKEN\"),\n",
    "        region=\"NA\",\n",
    "    )\n",
    "    product_pricing = ProductPricingApi(PricingClient(spapi_config))\n",
    "    response = product_pricing.get_pricing(marketplace_id=\"ATVPDKIKX0DER\", item_type=\"Asin\", asins=[\"B0DP7GSWC8\"])\n",
    "    print(\"pricing\", response)\n",
    "\n",
    "\n",
    "def test_notifications():\n",
    "    # demomonstrates a grantless request\n",
    "    grantless_config = SPAPIConfig(\n",
    "        client_id=os.getenv(\"SPAPI_CLIENT_ID\"),\n",
    "        client_secret=os.getenv(\"SPAPI_CLIENT_SECRET\"),\n",
    "        refresh_token=os.getenv(\"SPAPI_TOKEN\"),\n",
    "        region=\"NA\",\n",
    "        grant_type=\"client_credentials\",\n",
    "        scope=\"sellingpartnerapi::notifications\",\n",
    "    )\n",
    "    notifications = NotificationsApi(NotificationsClient(grantless_config))\n",
    "    response = notifications.get_destinations()\n",
    "    print(\"destinations\", response)\n",
    "\n",
    "\n",
    "test_notifications()\n",
    "test_get_pricing()"
   ]
  }
 ],
 "metadata": {
  "kernelspec": {
   "display_name": ".venv",
   "language": "python",
   "name": "python3"
  },
  "language_info": {
   "codemirror_mode": {
    "name": "ipython",
    "version": 3
   },
   "file_extension": ".py",
   "mimetype": "text/x-python",
   "name": "python",
   "nbconvert_exporter": "python",
   "pygments_lexer": "ipython3",
   "version": "3.11.1"
  }
 },
 "nbformat": 4,
 "nbformat_minor": 2
}
